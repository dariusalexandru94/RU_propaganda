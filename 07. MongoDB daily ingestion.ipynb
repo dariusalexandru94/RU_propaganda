{
 "cells": [
  {
   "cell_type": "markdown",
   "id": "b46f0f46",
   "metadata": {},
   "source": [
    "# MongoDB daily ingestion"
   ]
  },
  {
   "cell_type": "code",
   "execution_count": null,
   "id": "89fafad4",
   "metadata": {},
   "outputs": [],
   "source": [
    "from pymongo import MongoClient\n",
    "import datetime\n",
    "import os"
   ]
  },
  {
   "cell_type": "code",
   "execution_count": null,
   "id": "84b5693a",
   "metadata": {},
   "outputs": [],
   "source": [
    "\"\"\"I have created enviroment variables on my local machine in order \n",
    "to hide this sensitive data and I am using os to retrieve it.\"\"\"\n",
    "\n",
    "username = os.environ.get('MONGO_USERNAME')\n",
    "password = os.environ.get('MONGO_PASSWORD')\n",
    "host = os.environ.get('MONGO_HOST')\n",
    "port = os.environ.get('MONGO_PORT')\n",
    "database_name = 'ru_trolls_summarization'"
   ]
  },
  {
   "cell_type": "code",
   "execution_count": null,
   "id": "53e8b009",
   "metadata": {},
   "outputs": [],
   "source": [
    "connection_params = f'mongodb+srv://{username}:{password}@{host}/{database_name}' #connection parameters\n",
    "\n",
    "mongo_client = MongoClient(connection_params) # connecting to MongoDB"
   ]
  },
  {
   "cell_type": "code",
   "execution_count": null,
   "id": "55e5d8fb",
   "metadata": {},
   "outputs": [],
   "source": [
    "db = mongo_client[database_name]"
   ]
  },
  {
   "cell_type": "code",
   "execution_count": null,
   "id": "d74540f5",
   "metadata": {},
   "outputs": [],
   "source": [
    "current_date = datetime.datetime.now().strftime('%Y-%m-%d') # getting the current date"
   ]
  },
  {
   "cell_type": "code",
   "execution_count": null,
   "id": "89a175d4",
   "metadata": {},
   "outputs": [],
   "source": [
    "# new doc\n",
    "summary = {\n",
    "    'date': current_date,\n",
    "    'content': propaganda_summary,\n",
    "}"
   ]
  },
  {
   "cell_type": "code",
   "execution_count": null,
   "id": "bdc64951",
   "metadata": {},
   "outputs": [],
   "source": [
    "summaries = db['summaries'] # selecting the summaries collection ru_trolls_summarization DB"
   ]
  },
  {
   "cell_type": "code",
   "execution_count": null,
   "id": "85c0011f",
   "metadata": {},
   "outputs": [],
   "source": [
    "summaries.insert_one(summary)"
   ]
  }
 ],
 "metadata": {
  "kernelspec": {
   "display_name": "Python 3 (ipykernel)",
   "language": "python",
   "name": "python3"
  },
  "language_info": {
   "codemirror_mode": {
    "name": "ipython",
    "version": 3
   },
   "file_extension": ".py",
   "mimetype": "text/x-python",
   "name": "python",
   "nbconvert_exporter": "python",
   "pygments_lexer": "ipython3",
   "version": "3.9.12"
  }
 },
 "nbformat": 4,
 "nbformat_minor": 5
}
